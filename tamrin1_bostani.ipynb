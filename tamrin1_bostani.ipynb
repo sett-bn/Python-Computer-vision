{
 "cells": [
  {
   "cell_type": "markdown",
   "metadata": {},
   "source": [
    "# ساخت یک تصویر گرادیان با دو رنگ و دو پیکسل رندوم\n",
    "زهرا بوستانی"
   ]
  },
  {
   "cell_type": "markdown",
   "metadata": {},
   "source": [
    "Import Libraries"
   ]
  },
  {
   "cell_type": "code",
   "execution_count": 1,
   "metadata": {},
   "outputs": [],
   "source": [
    "import cv2  # کتابخانه‌ای برای کار با تصاویر\n",
    "import numpy as np  # کتابخانه‌ای برای کار با آرایه‌ها و محاسبات عددی"
   ]
  },
  {
   "cell_type": "markdown",
   "metadata": {},
   "source": [
    "Define Image Dimensions"
   ]
  },
  {
   "cell_type": "code",
   "execution_count": 2,
   "metadata": {},
   "outputs": [],
   "source": [
    "width = 256\n",
    "height = 256\n",
    "n_channels = 3"
   ]
  },
  {
   "cell_type": "markdown",
   "metadata": {},
   "source": [
    "Make empty black image of size (256, 256, 3)"
   ]
  },
  {
   "cell_type": "code",
   "execution_count": 3,
   "metadata": {},
   "outputs": [],
   "source": [
    "image = np.zeros((height, width, n_channels), dtype=np.uint8)\n",
    "#ایجاد یک تصویر سیاه با اندازه مشخص"
   ]
  },
  {
   "cell_type": "markdown",
   "metadata": {},
   "source": [
    "Selection of pixels"
   ]
  },
  {
   "cell_type": "code",
   "execution_count": 4,
   "metadata": {},
   "outputs": [],
   "source": [
    "pixel1 = (0, 0)  # تنظیم پیکسل اول\n",
    "pixel2 = (255, 255)  # تنظیم پیکسل دوم\n",
    "\n",
    "x1, y1 = pixel1  # مختصات پیکسل اول\n",
    "x2, y2 = pixel2  # مختصات پیکسل دوم"
   ]
  },
  {
   "cell_type": "markdown",
   "metadata": {},
   "source": [
    "Create a gradient image"
   ]
  },
  {
   "cell_type": "code",
   "execution_count": 5,
   "metadata": {},
   "outputs": [],
   "source": [
    "# بررسی اینکه مختصات در محدوده معتبر هستند یا نه\n",
    "if 0 <= x1 < 256 and 0 <= y1 < 256 and 0 <= x2 < 256 and 0 <= y2 < 256:\n",
    "    dx = x2 - x1  #دلتا x\n",
    "    dy = y2 - y1  #دلتا y\n",
    "    length = np.sqrt(dx**2 + dy**2)  # محاسبه فاصله بین دو پیکسل\n",
    "\n",
    "    for i in range(height):  # حلقه برای پیمایش سطرهای تصویر\n",
    "        for j in range(width):  # حلقه برای پیمایش ستون‌های تصویر\n",
    "            fasele = np.sqrt((i - x1)**2 + (j - y1)**2)  # فاصله هر پیکسل تا پیکسل اول\n",
    "            ratio = min(fasele / length, 1)  # نسبت فاصله به طول کل، حداکثر 1\n",
    "            color = (int(255 * ratio), 0 , int(255 * (1 - ratio)))  # تعیین رنگ بر اساس نسبت\n",
    "            image[i, j] = color  # تنظیم رنگ پیکسل در تصویر\n",
    "\n",
    "    cv2.imshow('Gradi Image', image)  # نمایش تصویر\n",
    "    cv2.waitKey(0)  # منتظر ماندن برای فشردن کلید\n",
    "    cv2.destroyAllWindows()  # بستن پنجره نمایش\n",
    "else:\n",
    "    print(\" Pleas Enter (0 to 255) and try again.\")  # پیام خطا در صورت نامعتبر بودن مختصات\n"
   ]
  }
 ],
 "metadata": {
  "kernelspec": {
   "display_name": "Python 3",
   "language": "python",
   "name": "python3"
  },
  "language_info": {
   "codemirror_mode": {
    "name": "ipython",
    "version": 3
   },
   "file_extension": ".py",
   "mimetype": "text/x-python",
   "name": "python",
   "nbconvert_exporter": "python",
   "pygments_lexer": "ipython3",
   "version": "3.12.7"
  }
 },
 "nbformat": 4,
 "nbformat_minor": 2
}
